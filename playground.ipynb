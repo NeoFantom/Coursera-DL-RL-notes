{
 "metadata": {
  "language_info": {
   "codemirror_mode": {
    "name": "ipython",
    "version": 3
   },
   "file_extension": ".py",
   "mimetype": "text/x-python",
   "name": "python",
   "nbconvert_exporter": "python",
   "pygments_lexer": "ipython3",
   "version": "3.7.7"
  },
  "orig_nbformat": 2,
  "kernelspec": {
   "name": "python3",
   "display_name": "Python 3.7.7 64-bit ('de': conda)"
  },
  "interpreter": {
   "hash": "48804bf1c1a33d02af8df9a93190afd9624ab2bb391a6a788adcd95f616dc4e0"
  }
 },
 "nbformat": 4,
 "nbformat_minor": 2,
 "cells": [
  {
   "cell_type": "code",
   "execution_count": 1,
   "metadata": {},
   "outputs": [],
   "source": [
    "from selenium import webdriver\n",
    "from selenium.webdriver.chrome.options import Options\n",
    "\n",
    "# options = webdriver.ChromeOptions()\n",
    "# options.add_argument(\"user-data-dir=C:\\\\Users\\\\18364\\\\AppData\\\\Local\\\\Google\\\\Chrome\\\\User Data\\\\Default\")\n",
    "# driver = webdriver.Chrome(chrome_options=options)\n",
    "# driver.get(\"https://www.google.co.in\")\n",
    "\n",
    "driver = webdriver.Chrome()\n",
    "driver.get('https://www.coursera.org/learn/neural-networks-deep-learning/programming/isoAV/python-basics-with-numpy/lab')"
   ]
  },
  {
   "cell_type": "code",
   "execution_count": 2,
   "metadata": {},
   "outputs": [
    {
     "output_type": "error",
     "ename": "AttributeError",
     "evalue": "'WebDriver' object has no attribute 'manage'",
     "traceback": [
      "\u001b[1;31m---------------------------------------------------------------------------\u001b[0m",
      "\u001b[1;31mAttributeError\u001b[0m                            Traceback (most recent call last)",
      "\u001b[1;32m<ipython-input-2-35b490bb7c06>\u001b[0m in \u001b[0;36m<module>\u001b[1;34m\u001b[0m\n\u001b[1;32m----> 1\u001b[1;33m \u001b[0mdriver\u001b[0m\u001b[1;33m.\u001b[0m\u001b[0mmanage\u001b[0m\u001b[1;33m(\u001b[0m\u001b[1;33m)\u001b[0m\u001b[1;33m.\u001b[0m\u001b[0mgetCookies\u001b[0m\u001b[1;33m(\u001b[0m\u001b[1;33m)\u001b[0m\u001b[1;33m\u001b[0m\u001b[1;33m\u001b[0m\u001b[0m\n\u001b[0m",
      "\u001b[1;31mAttributeError\u001b[0m: 'WebDriver' object has no attribute 'manage'"
     ]
    }
   ],
   "source": [
    "driver.manage().getCookies()"
   ]
  },
  {
   "cell_type": "code",
   "execution_count": 3,
   "metadata": {},
   "outputs": [
    {
     "output_type": "execute_result",
     "data": {
      "text/plain": [
       "[{'domain': '.coursera.org',\n",
       "  'expiry': 1623392367,\n",
       "  'httpOnly': False,\n",
       "  'name': '__400vt',\n",
       "  'path': '/',\n",
       "  'secure': False,\n",
       "  'value': '1623390567193'},\n",
       " {'domain': '.coursera.org',\n",
       "  'expiry': 1623392326,\n",
       "  'httpOnly': False,\n",
       "  'name': '__400v',\n",
       "  'path': '/',\n",
       "  'secure': False,\n",
       "  'value': '7ebb7d83-dd3f-46d6-81f9-3acae4d23e87'},\n",
       " {'domain': '.coursera.org',\n",
       "  'expiry': 1654926525,\n",
       "  'httpOnly': False,\n",
       "  'name': '__204u',\n",
       "  'path': '/',\n",
       "  'secure': False,\n",
       "  'value': '6026730958-1623390525320'},\n",
       " {'domain': '.coursera.org',\n",
       "  'expiry': 1654926526,\n",
       "  'httpOnly': False,\n",
       "  'name': '__204r',\n",
       "  'path': '/',\n",
       "  'secure': False,\n",
       "  'value': ''},\n",
       " {'domain': '.coursera.org',\n",
       "  'expiry': 1624254525,\n",
       "  'httpOnly': False,\n",
       "  'name': 'CSRF3-Token',\n",
       "  'path': '/',\n",
       "  'secure': False,\n",
       "  'value': '1624254525.VlDgxvydi5nxVS0P'}]"
      ]
     },
     "metadata": {},
     "execution_count": 3
    }
   ],
   "source": [
    "driver.get_cookies()"
   ]
  },
  {
   "cell_type": "code",
   "execution_count": null,
   "metadata": {},
   "outputs": [],
   "source": []
  }
 ]
}